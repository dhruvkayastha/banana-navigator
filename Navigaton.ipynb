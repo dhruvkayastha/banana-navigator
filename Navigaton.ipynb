{
 "cells": [
  {
   "cell_type": "markdown",
   "metadata": {},
   "source": [
    "# Navigation\n",
    "\n",
    "---\n",
    "\n",
    "In this notebook, you will learn how to use the Unity ML-Agents environment for the navigation task. This task has been taken from Udacity-Deep-Reinforcement-Learning Nanodegree. The algorithm you will be implementing is **REINFORCE** to achieve the task.\n",
    "\n",
    "(https://www.udacity.com/course/deep-reinforcement-learning-nanodegree--nd893).\n",
    "\n",
    "### 1. Start the Environment\n",
    "\n",
    "We begin by importing some necessary packages.  If the code cell below returns an error, please check that you have installed [Unity ML-Agents](https://github.com/Unity-Technologies/ml-agents/blob/master/docs/Installation.md) and [NumPy](http://www.numpy.org/)."
   ]
  },
  {
   "cell_type": "code",
   "execution_count": 1,
   "metadata": {},
   "outputs": [],
   "source": [
    "from unityagents import UnityEnvironment\n",
    "import numpy as np"
   ]
  },
  {
   "cell_type": "markdown",
   "metadata": {},
   "source": [
    "Next, we will start the environment!  **_Before running the code cell below_**, change the `file_name` parameter to match the location of the Unity environment that you downloaded.\n",
    "\n",
    "- **Mac**: `\"path/to/Banana.app\"`\n",
    "- **Windows** (x86): `\"path/to/Banana_Windows_x86/Banana.exe\"`\n",
    "- **Windows** (x86_64): `\"path/to/Banana_Windows_x86_64/Banana.exe\"`\n",
    "- **Linux** (x86): `\"path/to/Banana_Linux/Banana.x86\"`\n",
    "- **Linux** (x86_64): `\"path/to/Banana_Linux/Banana.x86_64\"`\n",
    "- **Linux** (x86, headless): `\"path/to/Banana_Linux_NoVis/Banana.x86\"`\n",
    "- **Linux** (x86_64, headless): `\"path/to/Banana_Linux_NoVis/Banana.x86_64\"`\n",
    "\n",
    "For instance, if you are using a Mac, then you downloaded `Banana.app`.  If this file is in the same folder as the notebook, then the line below should appear as follows:\n",
    "```\n",
    "env = UnityEnvironment(file_name=\"Banana.app\")\n",
    "```"
   ]
  },
  {
   "cell_type": "code",
   "execution_count": 2,
   "metadata": {},
   "outputs": [
    {
     "name": "stderr",
     "output_type": "stream",
     "text": [
      "INFO:unityagents:\n",
      "'Academy' started successfully!\n",
      "Unity Academy name: Academy\n",
      "        Number of Brains: 1\n",
      "        Number of External Brains : 1\n",
      "        Lesson number : 0\n",
      "        Reset Parameters :\n",
      "\t\t\n",
      "Unity brain name: BananaBrain\n",
      "        Number of Visual Observations (per agent): 0\n",
      "        Vector Observation space type: continuous\n",
      "        Vector Observation space size (per agent): 37\n",
      "        Number of stacked Vector Observation: 1\n",
      "        Vector Action space type: discrete\n",
      "        Vector Action space size (per agent): 4\n",
      "        Vector Action descriptions: , , , \n"
     ]
    }
   ],
   "source": [
    "env = UnityEnvironment(file_name='Banana_Linux/Banana.x86_64',no_graphics=True) #put path to environment file"
   ]
  },
  {
   "cell_type": "markdown",
   "metadata": {},
   "source": [
    "Environments contain **_brains_** which are responsible for deciding the actions of their associated agents. Here we check for the first brain available, and set it as the default brain we will be controlling from Python."
   ]
  },
  {
   "cell_type": "code",
   "execution_count": 3,
   "metadata": {},
   "outputs": [],
   "source": [
    "# get the default brain\n",
    "brain_name = env.brain_names[0]\n",
    "brain = env.brains[brain_name]"
   ]
  },
  {
   "cell_type": "markdown",
   "metadata": {},
   "source": [
    "### 2. Examine the State and Action Spaces\n",
    "\n",
    "The simulation contains a single agent that navigates a large environment.  At each time step, it has four actions at its disposal:\n",
    "- `0` - walk forward \n",
    "- `1` - walk backward\n",
    "- `2` - turn left\n",
    "- `3` - turn right\n",
    "\n",
    "The state space has `37` dimensions and contains the agent's velocity, along with ray-based perception of objects around agent's forward direction.  A reward of `+1` is provided for collecting a yellow banana, and a reward of `-1` is provided for collecting a blue banana. \n",
    "\n",
    "Run the code cell below to print some information about the environment."
   ]
  },
  {
   "cell_type": "code",
   "execution_count": 4,
   "metadata": {},
   "outputs": [
    {
     "name": "stdout",
     "output_type": "stream",
     "text": [
      "Number of agents: 1\n",
      "Number of actions: 4\n",
      "States look like: [1.         0.         0.         0.         0.84408134 0.\n",
      " 0.         1.         0.         0.0748472  0.         1.\n",
      " 0.         0.         0.25755    1.         0.         0.\n",
      " 0.         0.74177343 0.         1.         0.         0.\n",
      " 0.25854847 0.         0.         1.         0.         0.09355672\n",
      " 0.         1.         0.         0.         0.31969345 0.\n",
      " 0.        ]\n",
      "States have length: 37\n"
     ]
    }
   ],
   "source": [
    "# reset the environment\n",
    "env_info = env.reset(train_mode=True)[brain_name]\n",
    "\n",
    "# number of agents in the environment\n",
    "print('Number of agents:', len(env_info.agents))\n",
    "\n",
    "# number of actions\n",
    "action_size = brain.vector_action_space_size\n",
    "print('Number of actions:', action_size)\n",
    "\n",
    "# examine the state space \n",
    "state = env_info.vector_observations[0]\n",
    "print('States look like:', state)\n",
    "state_size = len(state)\n",
    "print('States have length:', state_size)"
   ]
  },
  {
   "cell_type": "markdown",
   "metadata": {},
   "source": [
    "### 3. Take Random Actions in the Environment\n",
    "\n",
    "In the next code cell, you will learn how to use the Python API to control the agent and receive feedback from the environment.\n",
    "\n",
    "Once this cell is executed, you will watch the agent's performance, if it selects an action (uniformly) at random with each time step.  A window should pop up that allows you to observe the agent, as it moves through the environment.  \n",
    "\n",
    "Of course, as part of the project, you'll have to change the code so that the agent is able to use its experience to gradually choose better actions when interacting with the environment!"
   ]
  },
  {
   "cell_type": "code",
   "execution_count": 5,
   "metadata": {},
   "outputs": [],
   "source": [
    "import numpy as np\n",
    "from collections import deque\n",
    "import matplotlib.pyplot as plt\n",
    "%matplotlib inline\n",
    "import torch\n",
    "import torch.nn as nn\n",
    "import torch.nn.functional as F\n",
    "import torch.optim as optim\n",
    "from torch.distributions import Categorical\n",
    "\n",
    "from agent import Agent\n",
    "\n",
    "device = torch.device(\"cuda:0\" if torch.cuda.is_available() else \"cpu\")\n",
    "agent = Agent(state_size, action_size, 42)"
   ]
  },
  {
   "cell_type": "code",
   "execution_count": 6,
   "metadata": {},
   "outputs": [],
   "source": [
    "def update_policy(agent, rewards, log_probs, gamma):\n",
    "    discounted_rewards = []\n",
    "    for t in range(len(rewards)):\n",
    "        Gt = 0 \n",
    "        pw = 0\n",
    "        for r in rewards[t:]:\n",
    "            Gt = Gt + gamma**pw * r\n",
    "            pw = pw + 1\n",
    "        discounted_rewards.append(Gt)\n",
    "\n",
    "    discounted_rewards = torch.tensor(discounted_rewards)\n",
    "    discounted_rewards = (discounted_rewards - discounted_rewards.mean()) / (discounted_rewards.std() + 1e-9) # normalize discounted rewards\n",
    "\n",
    "    experiences = (log_probs, discounted_rewards)\n",
    "    agent.learn(experiences)\n",
    "    \n",
    "def play_episode(agent, env, T_max):\n",
    "    env_info = env.reset(train_mode=True)[brain_name]\n",
    "    state = env_info.vector_observations[0]\n",
    "    rewards = []\n",
    "    log_probs = []\n",
    "\n",
    "    for t in range(T_max):\n",
    "        action, log_prob = agent.act(state)\n",
    "        log_probs.append(log_prob)\n",
    "        env_info = env.step(action)[brain_name]\n",
    "        next_state = env_info.vector_observations[0]\n",
    "        reward = env_info.rewards[0] \n",
    "        rewards.append(reward)\n",
    "        done = env_info.local_done[0]\n",
    "        if done:\n",
    "            break\n",
    "        state = next_state\n",
    "    \n",
    "    return rewards, log_probs\n",
    "        "
   ]
  },
  {
   "cell_type": "code",
   "execution_count": 7,
   "metadata": {},
   "outputs": [],
   "source": [
    "def REINFORCE(num_episodes=5000, T_max=1000, gamma=0.92):\n",
    "\n",
    "    scores = []\n",
    "    last100_scores = deque(maxlen=100)  \n",
    "    \n",
    "    for i in range(1, num_episodes+1):\n",
    "#         rewards, log_probs = play_episode(agent, env, T_max)\n",
    "        env_info = env.reset(train_mode=True)[brain_name]\n",
    "        state = env_info.vector_observations[0]\n",
    "        rewards = []\n",
    "        log_probs = []\n",
    "        \n",
    "        for t in range(T_max):\n",
    "            action, log_prob = agent.act(state)\n",
    "            log_probs.append(log_prob)\n",
    "            env_info = env.step(action)[brain_name]\n",
    "            next_state = env_info.vector_observations[0]\n",
    "            reward = env_info.rewards[0] \n",
    "            rewards.append(reward)\n",
    "            done = env_info.local_done[0]\n",
    "            if done:\n",
    "                break\n",
    "            state = next_state\n",
    "        \n",
    "        S = sum(rewards)\n",
    "        last100_scores.append(S)\n",
    "        scores.append(S)\n",
    "\n",
    "        update_policy(agent, rewards, log_probs, gamma)\n",
    "        \n",
    "        if i < 100:\n",
    "            continue\n",
    "        \n",
    "        if i % 50 == 0:\n",
    "            print('Episode {}: Average Score (last 100 episodes): {:.3f}'.format(i, np.mean(last100_scores)))\n",
    "        if np.mean(last100_scores)>=13.0:\n",
    "            print('Environment solved in {:d} episodes\\nAverage Score (last 100 episodes): {:.3f}'.format(i, np.mean(last100_scores)))\n",
    "            break\n",
    "        \n",
    "    return scores"
   ]
  },
  {
   "cell_type": "code",
   "execution_count": 8,
   "metadata": {},
   "outputs": [
    {
     "name": "stdout",
     "output_type": "stream",
     "text": [
      "Episode 100: Average Score (last 100 episodes): 0.220\n",
      "Episode 150: Average Score (last 100 episodes): 0.240\n",
      "Episode 200: Average Score (last 100 episodes): 0.930\n",
      "Episode 250: Average Score (last 100 episodes): 2.270\n",
      "Episode 300: Average Score (last 100 episodes): 4.730\n",
      "Episode 350: Average Score (last 100 episodes): 8.110\n",
      "Episode 400: Average Score (last 100 episodes): 10.750\n",
      "Episode 450: Average Score (last 100 episodes): 11.770\n",
      "Episode 500: Average Score (last 100 episodes): 11.940\n",
      "Episode 550: Average Score (last 100 episodes): 11.810\n",
      "Episode 600: Average Score (last 100 episodes): 11.390\n",
      "Episode 650: Average Score (last 100 episodes): 11.770\n",
      "Episode 700: Average Score (last 100 episodes): 11.950\n",
      "Episode 750: Average Score (last 100 episodes): 12.120\n",
      "Episode 800: Average Score (last 100 episodes): 12.890\n",
      "Episode 850: Average Score (last 100 episodes): 12.500\n",
      "Episode 900: Average Score (last 100 episodes): 12.100\n",
      "Episode 950: Average Score (last 100 episodes): 11.990\n",
      "Episode 1000: Average Score (last 100 episodes): 11.700\n",
      "Episode 1050: Average Score (last 100 episodes): 11.470\n",
      "Episode 1100: Average Score (last 100 episodes): 11.880\n",
      "Episode 1150: Average Score (last 100 episodes): 12.640\n",
      "Episode 1200: Average Score (last 100 episodes): 10.910\n",
      "Episode 1250: Average Score (last 100 episodes): 10.560\n",
      "Episode 1300: Average Score (last 100 episodes): 11.500\n",
      "Episode 1350: Average Score (last 100 episodes): 11.840\n",
      "Episode 1400: Average Score (last 100 episodes): 11.570\n",
      "Episode 1450: Average Score (last 100 episodes): 10.430\n",
      "Episode 1500: Average Score (last 100 episodes): 12.120\n",
      "Environment solved in 1523 episodes\n",
      "Average Score (last 100 episodes): 13.100\n"
     ]
    }
   ],
   "source": [
    "scores = REINFORCE()"
   ]
  },
  {
   "cell_type": "code",
   "execution_count": 23,
   "metadata": {},
   "outputs": [
    {
     "data": {
      "image/png": "[encoded data removed]",
      "text/plain": [
       "<Figure size 432x288 with 1 Axes>"
      ]
     },
     "metadata": {
      "needs_background": "light"
     },
     "output_type": "display_data"
    }
   ],
   "source": [
    "average_scores = [np.mean(scores[i:i+100]) for i in range(0, len(scores)+1, 1)]\n",
    "# average_scores.append(np.mean(scores[-100:]))\n",
    "plt.plot(15)\n",
    "plt.plot(average_scores)\n",
    "plt.xlabel('#Episodes')\n",
    "plt.ylabel('Avg Score')\n",
    "plt.show()"
   ]
  },
  {
   "cell_type": "code",
   "execution_count": 19,
   "metadata": {},
   "outputs": [
    {
     "data": {
      "image/png": "[encoded data removed]",
      "text/plain": [
       "<Figure size 432x288 with 1 Axes>"
      ]
     },
     "metadata": {
      "needs_background": "light"
     },
     "output_type": "display_data"
    }
   ],
   "source": [
    "plt.plot(15)\n",
    "plt.plot(scores)\n",
    "plt.xlabel('No of Episodes')\n",
    "plt.ylabel('Score')\n",
    "plt.show()"
   ]
  },
  {
   "cell_type": "code",
   "execution_count": 20,
   "metadata": {},
   "outputs": [],
   "source": [
    "env.close()"
   ]
  },
  {
   "cell_type": "code",
   "execution_count": null,
   "metadata": {},
   "outputs": [],
   "source": []
  }
 ],
 "metadata": {
  "@webio": {
   "lastCommId": null,
   "lastKernelId": null
  },
  "kernelspec": {
   "display_name": "Python 3",
   "language": "python",
   "name": "python3"
  },
  "language_info": {
   "codemirror_mode": {
    "name": "ipython",
    "version": 3
   },
   "file_extension": ".py",
   "mimetype": "text/x-python",
   "name": "python",
   "nbconvert_exporter": "python",
   "pygments_lexer": "ipython3",
   "version": "3.6.8"
  }
 },
 "nbformat": 4,
 "nbformat_minor": 4
}
